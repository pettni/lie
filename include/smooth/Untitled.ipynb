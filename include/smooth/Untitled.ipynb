{
 "cells": [
  {
   "cell_type": "code",
   "execution_count": 1,
   "id": "538f5137",
   "metadata": {},
   "outputs": [],
   "source": [
    "import sympy as sp"
   ]
  },
  {
   "cell_type": "code",
   "execution_count": 21,
   "id": "57938da7",
   "metadata": {},
   "outputs": [],
   "source": [
    "vx, vy, vz = sp.symbols('v.x() v.y() v.z()')\n",
    "wx, wy, wz = sp.symbols('w.x() w.y() w.z()')\n",
    "A, B, C = sp.symbols('A B C')\n",
    "th = sp.symbols('θ')"
   ]
  },
  {
   "cell_type": "code",
   "execution_count": 22,
   "id": "d279a04c",
   "metadata": {},
   "outputs": [],
   "source": [
    "def hat(x):\n",
    "    return sp.Matrix([[0, -x[2], x[1]], [x[2], 0, -x[0]], [-x[1], x[0], 0]])\n",
    "\n",
    "def diff_vec(q, symbols):\n",
    "    return sp.Matrix.hstack(*[q.diff(s) for s in symbols])\n",
    "\n",
    "def diff_mat(Q, symbols):\n",
    "    return sp.Matrix.hstack(*[diff_vec(Q[i, :].transpose(), symbols) for i in range(Q.rows)])\n",
    "\n",
    "def show(expr):\n",
    "    print(expr)\n",
    "    return expr"
   ]
  },
  {
   "cell_type": "code",
   "execution_count": 23,
   "id": "c007069c",
   "metadata": {},
   "outputs": [],
   "source": [
    "v = sp.Matrix([vx, vy, vz])\n",
    "w = sp.Matrix([wx, wy, wz])\n",
    "V = hat(v)\n",
    "W = hat(w)"
   ]
  },
  {
   "cell_type": "markdown",
   "id": "215ffed4",
   "metadata": {},
   "source": [
    "# SO3"
   ]
  },
  {
   "cell_type": "code",
   "execution_count": 24,
   "id": "5aef1b4c",
   "metadata": {},
   "outputs": [],
   "source": [
    "A_so3 = (1 - sp.cos(th)) / th**2\n",
    "B_so3 = (th - sp.sin(th)) / th**3\n",
    "A_so3inv = 1 / th**2 - (1 + sp.cos(th)) / (2 * th * sp.sin(th))"
   ]
  },
  {
   "cell_type": "code",
   "execution_count": 25,
   "id": "8449af97",
   "metadata": {},
   "outputs": [
    {
     "data": {
      "text/latex": [
       "$\\displaystyle \\frac{1}{2} - \\frac{θ^{2}}{24} + O\\left(θ^{3}\\right)$"
      ],
      "text/plain": [
       "1/2 - θ**2/24 + O(θ**3)"
      ]
     },
     "execution_count": 25,
     "metadata": {},
     "output_type": "execute_result"
    }
   ],
   "source": [
    "A_so3.series(th, 0, 3)"
   ]
  },
  {
   "cell_type": "code",
   "execution_count": 26,
   "id": "8fda0685",
   "metadata": {},
   "outputs": [
    {
     "data": {
      "text/latex": [
       "$\\displaystyle \\frac{1}{6} - \\frac{θ^{2}}{120} + O\\left(θ^{3}\\right)$"
      ],
      "text/plain": [
       "1/6 - θ**2/120 + O(θ**3)"
      ]
     },
     "execution_count": 26,
     "metadata": {},
     "output_type": "execute_result"
    }
   ],
   "source": [
    "B_so3.series(th, 0, 3)"
   ]
  },
  {
   "cell_type": "code",
   "execution_count": 27,
   "id": "2dbc84f6",
   "metadata": {},
   "outputs": [
    {
     "data": {
      "text/latex": [
       "$\\displaystyle \\frac{1}{12} + \\frac{θ^{2}}{720} + O\\left(θ^{3}\\right)$"
      ],
      "text/plain": [
       "1/12 + θ**2/720 + O(θ**3)"
      ]
     },
     "execution_count": 27,
     "metadata": {},
     "output_type": "execute_result"
    }
   ],
   "source": [
    "A_so3inv.series(th, 0, 3)"
   ]
  },
  {
   "cell_type": "code",
   "execution_count": 28,
   "id": "322f2e0d",
   "metadata": {},
   "outputs": [
    {
     "name": "stdout",
     "output_type": "stream",
     "text": [
      "sin(θ)/θ**3 + 2*cos(θ)/θ**4 - 2/θ**4\n"
     ]
    },
    {
     "data": {
      "text/latex": [
       "$\\displaystyle \\frac{\\sin{\\left(θ \\right)}}{θ^{3}} + \\frac{2 \\cos{\\left(θ \\right)}}{θ^{4}} - \\frac{2}{θ^{4}}$"
      ],
      "text/plain": [
       "sin(θ)/θ**3 + 2*cos(θ)/θ**4 - 2/θ**4"
      ]
     },
     "execution_count": 28,
     "metadata": {},
     "output_type": "execute_result"
    }
   ],
   "source": [
    "show((A_so3.diff()/th).expand())"
   ]
  },
  {
   "cell_type": "code",
   "execution_count": 29,
   "id": "bf093ff0",
   "metadata": {},
   "outputs": [
    {
     "name": "stdout",
     "output_type": "stream",
     "text": [
      "-cos(θ)/θ**4 - 2/θ**4 + 3*sin(θ)/θ**5\n"
     ]
    },
    {
     "data": {
      "text/latex": [
       "$\\displaystyle - \\frac{\\cos{\\left(θ \\right)}}{θ^{4}} - \\frac{2}{θ^{4}} + \\frac{3 \\sin{\\left(θ \\right)}}{θ^{5}}$"
      ],
      "text/plain": [
       "-cos(θ)/θ**4 - 2/θ**4 + 3*sin(θ)/θ**5"
      ]
     },
     "execution_count": 29,
     "metadata": {},
     "output_type": "execute_result"
    }
   ],
   "source": [
    "show((B_so3.diff()/th).expand())"
   ]
  },
  {
   "cell_type": "code",
   "execution_count": 30,
   "id": "f1e848fc",
   "metadata": {},
   "outputs": [
    {
     "name": "stdout",
     "output_type": "stream",
     "text": [
      "1/(2*θ**2) + cos(θ)**2/(2*θ**2*sin(θ)**2) + cos(θ)/(2*θ**2*sin(θ)**2) + cos(θ)/(2*θ**3*sin(θ)) + 1/(2*θ**3*sin(θ)) - 2/θ**4\n"
     ]
    },
    {
     "data": {
      "text/latex": [
       "$\\displaystyle \\frac{1}{2 θ^{2}} + \\frac{\\cos^{2}{\\left(θ \\right)}}{2 θ^{2} \\sin^{2}{\\left(θ \\right)}} + \\frac{\\cos{\\left(θ \\right)}}{2 θ^{2} \\sin^{2}{\\left(θ \\right)}} + \\frac{\\cos{\\left(θ \\right)}}{2 θ^{3} \\sin{\\left(θ \\right)}} + \\frac{1}{2 θ^{3} \\sin{\\left(θ \\right)}} - \\frac{2}{θ^{4}}$"
      ],
      "text/plain": [
       "1/(2*θ**2) + cos(θ)**2/(2*θ**2*sin(θ)**2) + cos(θ)/(2*θ**2*sin(θ)**2) + cos(θ)/(2*θ**3*sin(θ)) + 1/(2*θ**3*sin(θ)) - 2/θ**4"
      ]
     },
     "execution_count": 30,
     "metadata": {},
     "output_type": "execute_result"
    }
   ],
   "source": [
    "show((A_so3inv.diff()/th).expand())"
   ]
  },
  {
   "cell_type": "code",
   "execution_count": 51,
   "id": "3023a2f3",
   "metadata": {},
   "outputs": [
    {
     "name": "stdout",
     "output_type": "stream",
     "text": [
      "Matrix([[0, -2*B*w.y(), -2*B*w.z(), B*w.y(), B*w.x(), -A, B*w.z(), A, B*w.x()], [B*w.y(), B*w.x(), A, -2*B*w.x(), 0, -2*B*w.z(), -A, B*w.z(), B*w.y()], [B*w.z(), -A, B*w.x(), A, B*w.z(), B*w.y(), -2*B*w.x(), -2*B*w.y(), 0]])\n"
     ]
    },
    {
     "data": {
      "text/latex": [
       "$\\displaystyle \\left[\\begin{matrix}0 & - 2 B w.y() & - 2 B w.z() & B w.y() & B w.x() & - A & B w.z() & A & B w.x()\\\\B w.y() & B w.x() & A & - 2 B w.x() & 0 & - 2 B w.z() & - A & B w.z() & B w.y()\\\\B w.z() & - A & B w.x() & A & B w.z() & B w.y() & - 2 B w.x() & - 2 B w.y() & 0\\end{matrix}\\right]$"
      ],
      "text/plain": [
       "Matrix([\n",
       "[      0, -2*B*w.y(), -2*B*w.z(),    B*w.y(), B*w.x(),         -A,    B*w.z(),          A, B*w.x()],\n",
       "[B*w.y(),    B*w.x(),          A, -2*B*w.x(),       0, -2*B*w.z(),         -A,    B*w.z(), B*w.y()],\n",
       "[B*w.z(),         -A,    B*w.x(),          A, B*w.z(),    B*w.y(), -2*B*w.x(), -2*B*w.y(),       0]])"
      ]
     },
     "execution_count": 51,
     "metadata": {},
     "output_type": "execute_result"
    }
   ],
   "source": [
    "show(diff_mat(-a * hat(w) + b * hat(w) * hat(w), [wx, wy, wz]))"
   ]
  },
  {
   "cell_type": "markdown",
   "id": "92bd60c7",
   "metadata": {},
   "source": [
    "# SE3"
   ]
  },
  {
   "cell_type": "code",
   "execution_count": 32,
   "id": "ba28d955",
   "metadata": {},
   "outputs": [],
   "source": [
    "A_se3 = (th - sp.sin(th)) / th**3\n",
    "B_se3 = (sp.cos(th) - 1 + th**2 / 2) / th**4\n",
    "C_se3 = (th - sp.sin(th) - th**3 / 6) / th**5"
   ]
  },
  {
   "cell_type": "code",
   "execution_count": 33,
   "id": "56e35469",
   "metadata": {},
   "outputs": [
    {
     "data": {
      "text/latex": [
       "$\\displaystyle \\frac{1}{6} - \\frac{θ^{2}}{120} + O\\left(θ^{3}\\right)$"
      ],
      "text/plain": [
       "1/6 - θ**2/120 + O(θ**3)"
      ]
     },
     "execution_count": 33,
     "metadata": {},
     "output_type": "execute_result"
    }
   ],
   "source": [
    "A_se3.series(th, 0, 3)"
   ]
  },
  {
   "cell_type": "code",
   "execution_count": 34,
   "id": "57d0f178",
   "metadata": {},
   "outputs": [
    {
     "data": {
      "text/latex": [
       "$\\displaystyle \\frac{1}{24} - \\frac{θ^{2}}{720} + O\\left(θ^{3}\\right)$"
      ],
      "text/plain": [
       "1/24 - θ**2/720 + O(θ**3)"
      ]
     },
     "execution_count": 34,
     "metadata": {},
     "output_type": "execute_result"
    }
   ],
   "source": [
    "B_se3.series(th, 0, 3)"
   ]
  },
  {
   "cell_type": "code",
   "execution_count": 35,
   "id": "ca2bcd55",
   "metadata": {},
   "outputs": [
    {
     "data": {
      "text/latex": [
       "$\\displaystyle - \\frac{1}{120} + \\frac{θ^{2}}{5040} + O\\left(θ^{3}\\right)$"
      ],
      "text/plain": [
       "-1/120 + θ**2/5040 + O(θ**3)"
      ]
     },
     "execution_count": 35,
     "metadata": {},
     "output_type": "execute_result"
    }
   ],
   "source": [
    "C_se3.series(th, 0, 3)"
   ]
  },
  {
   "cell_type": "code",
   "execution_count": 45,
   "id": "768c7d0f",
   "metadata": {},
   "outputs": [
    {
     "name": "stdout",
     "output_type": "stream",
     "text": [
      "-cos(θ)/θ**4 - 2/θ**4 + 3*sin(θ)/θ**5\n"
     ]
    },
    {
     "data": {
      "text/latex": [
       "$\\displaystyle - \\frac{\\cos{\\left(θ \\right)}}{θ^{4}} - \\frac{2}{θ^{4}} + \\frac{3 \\sin{\\left(θ \\right)}}{θ^{5}}$"
      ],
      "text/plain": [
       "-cos(θ)/θ**4 - 2/θ**4 + 3*sin(θ)/θ**5"
      ]
     },
     "execution_count": 45,
     "metadata": {},
     "output_type": "execute_result"
    }
   ],
   "source": [
    "show((A_se3.diff()/th).expand())"
   ]
  },
  {
   "cell_type": "code",
   "execution_count": 46,
   "id": "2a66d928",
   "metadata": {},
   "outputs": [
    {
     "name": "stdout",
     "output_type": "stream",
     "text": [
      "-1/θ**4 - sin(θ)/θ**5 - 4*cos(θ)/θ**6 + 4/θ**6\n"
     ]
    },
    {
     "data": {
      "text/latex": [
       "$\\displaystyle - \\frac{1}{θ^{4}} - \\frac{\\sin{\\left(θ \\right)}}{θ^{5}} - \\frac{4 \\cos{\\left(θ \\right)}}{θ^{6}} + \\frac{4}{θ^{6}}$"
      ],
      "text/plain": [
       "-1/θ**4 - sin(θ)/θ**5 - 4*cos(θ)/θ**6 + 4/θ**6"
      ]
     },
     "execution_count": 46,
     "metadata": {},
     "output_type": "execute_result"
    }
   ],
   "source": [
    "show((B_se3.diff()/th).expand())"
   ]
  },
  {
   "cell_type": "code",
   "execution_count": 47,
   "id": "b3f3e36b",
   "metadata": {},
   "outputs": [
    {
     "name": "stdout",
     "output_type": "stream",
     "text": [
      "1/(3*θ**4) - cos(θ)/θ**6 - 4/θ**6 + 5*sin(θ)/θ**7\n"
     ]
    },
    {
     "data": {
      "text/latex": [
       "$\\displaystyle \\frac{1}{3 θ^{4}} - \\frac{\\cos{\\left(θ \\right)}}{θ^{6}} - \\frac{4}{θ^{6}} + \\frac{5 \\sin{\\left(θ \\right)}}{θ^{7}}$"
      ],
      "text/plain": [
       "1/(3*θ**4) - cos(θ)/θ**6 - 4/θ**6 + 5*sin(θ)/θ**7"
      ]
     },
     "execution_count": 47,
     "metadata": {},
     "output_type": "execute_result"
    }
   ],
   "source": [
    "show((C_se3.diff()/th).expand())"
   ]
  },
  {
   "cell_type": "code",
   "execution_count": 48,
   "id": "692019c8",
   "metadata": {},
   "outputs": [
    {
     "name": "stdout",
     "output_type": "stream",
     "text": [
      "Matrix([[w.x()*(B + 3*C)*(w.y()**2 + w.z()**2), w.y()*(-2*A + B*(w.y()**2 + w.z()**2) + 3*C*(w.y()**2 + w.z()**2)), w.z()*(-2*A + B*(w.y()**2 + w.z()**2) + 3*C*(w.y()**2 + w.z()**2)), v.x()*(B + 3*C)*(w.y()**2 + w.z()**2), -2*A*v.y() + B*v.y()*(w.y()**2 + w.z()**2) + 2*B*w.y()*(v.x()*w.x() + v.y()*w.y() + v.z()*w.z()) + 3*C*(v.y()*w.y()**2 + v.y()*w.z()**2 + 2*w.y()*(v.x()*w.x() + v.y()*w.y() + v.z()*w.z())), -2*A*v.z() + B*v.z()*(w.y()**2 + w.z()**2) + 2*B*w.z()*(v.x()*w.x() + v.y()*w.y() + v.z()*w.z()) + 3*C*(v.z()*w.y()**2 + v.z()*w.z()**2 + 2*w.z()*(v.x()*w.x() + v.y()*w.y() + v.z()*w.z())), -A*(w.x()*w.z() - w.y()) - B*w.x()*(w.x()*w.y() - 2*w.z()) - 3*C*w.x()**2*w.y(), A*(w.x() - w.y()*w.z()) - B*w.y()*(w.x()*w.y() - 2*w.z()) - 3*C*w.x()*w.y()**2, -A*w.z()**2 - B*w.x()**2 - B*w.x()*w.y()*w.z() - B*w.y()**2 + B*w.z()**2 - 3*C*w.x()*w.y()*w.z() + 1/2, -A*(v.x()*w.z() - v.y()) - B*(v.x()*w.z() + v.x()*(w.x()*w.y() - 3*w.z()) + 2*v.z()*w.x() + w.y()*(v.x()*w.x() + v.y()*w.y() + v.z()*w.z())) - 3*C*v.x()*w.x()*w.y() - 3*C*w.y()*(v.x()*w.x() + v.y()*w.y() + v.z()*w.z()), A*(v.x() - v.y()*w.z()) - B*(v.y()*w.z() + v.y()*(w.x()*w.y() - 3*w.z()) + 2*v.z()*w.y() + w.x()*(v.x()*w.x() + v.y()*w.y() + v.z()*w.z())) - 3*C*v.y()*w.x()*w.y() - 3*C*w.x()*(v.x()*w.x() + v.y()*w.y() + v.z()*w.z()), -A*(v.x()*w.x() + v.y()*w.y() + 2*v.z()*w.z()) + B*(2*v.x()*w.x() + 2*v.y()*w.y() - v.z()*w.z() - v.z()*(w.x()*w.y() - 3*w.z())) - 3*C*v.z()*w.x()*w.y(), A*(w.x()*w.y() + w.z()) - B*w.x()*(w.x()*w.z() + 2*w.y()) - 3*C*w.x()**2*w.z(), A*w.y()**2 + B*w.x()**2 - B*w.x()*w.y()*w.z() - B*w.y()**2 + B*w.z()**2 - 3*C*w.x()*w.y()*w.z() - 1/2, A*(w.x() + w.y()*w.z()) - B*w.z()*(w.x()*w.z() + 2*w.y()) - 3*C*w.x()*w.z()**2, A*(v.x()*w.y() + v.z()) + B*(v.x()*w.y() - v.x()*(w.x()*w.z() + 3*w.y()) + 2*v.y()*w.x() - w.z()*(v.x()*w.x() + v.y()*w.y() + v.z()*w.z())) - 3*C*v.x()*w.x()*w.z() - 3*C*w.z()*(v.x()*w.x() + v.y()*w.y() + v.z()*w.z()), A*(v.x()*w.x() + 2*v.y()*w.y() + v.z()*w.z()) - B*(2*v.x()*w.x() - v.y()*w.y() + v.y()*(w.x()*w.z() + 3*w.y()) + 2*v.z()*w.z()) - 3*C*v.y()*w.x()*w.z(), A*(v.x() + v.z()*w.y()) + B*(2*v.y()*w.z() + v.z()*w.y() - v.z()*(w.x()*w.z() + 3*w.y()) - w.x()*(v.x()*w.x() + v.y()*w.y() + v.z()*w.z())) - 3*C*v.z()*w.x()*w.z() - 3*C*w.x()*(v.x()*w.x() + v.y()*w.y() + v.z()*w.z())], [A*(w.x()*w.z() + w.y()) - B*w.x()*(w.x()*w.y() + 2*w.z()) - 3*C*w.x()**2*w.y(), A*(w.x() + w.y()*w.z()) - B*w.y()*(w.x()*w.y() + 2*w.z()) - 3*C*w.x()*w.y()**2, A*w.z()**2 + B*w.x()**2 - B*w.x()*w.y()*w.z() + B*w.y()**2 - B*w.z()**2 - 3*C*w.x()*w.y()*w.z() - 1/2, A*(v.x()*w.z() + v.y()) + B*(v.x()*w.z() - v.x()*(w.x()*w.y() + 3*w.z()) + 2*v.z()*w.x() - w.y()*(v.x()*w.x() + v.y()*w.y() + v.z()*w.z())) - 3*C*v.x()*w.x()*w.y() - 3*C*w.y()*(v.x()*w.x() + v.y()*w.y() + v.z()*w.z()), A*(v.x() + v.y()*w.z()) + B*(v.y()*w.z() - v.y()*(w.x()*w.y() + 3*w.z()) + 2*v.z()*w.y() - w.x()*(v.x()*w.x() + v.y()*w.y() + v.z()*w.z())) - 3*C*v.y()*w.x()*w.y() - 3*C*w.x()*(v.x()*w.x() + v.y()*w.y() + v.z()*w.z()), A*(v.x()*w.x() + v.y()*w.y() + 2*v.z()*w.z()) - B*(2*v.x()*w.x() + 2*v.y()*w.y() - v.z()*w.z() + v.z()*(w.x()*w.y() + 3*w.z())) - 3*C*v.z()*w.x()*w.y(), w.x()*(-2*A + B*(w.x()**2 + w.z()**2) + 3*C*(w.x()**2 + w.z()**2)), w.y()*(B + 3*C)*(w.x()**2 + w.z()**2), w.z()*(-2*A + B*(w.x()**2 + w.z()**2) + 3*C*(w.x()**2 + w.z()**2)), -2*A*v.x() + B*v.x()*(w.x()**2 + w.z()**2) + 2*B*w.x()*(v.x()*w.x() + v.y()*w.y() + v.z()*w.z()) + 3*C*(v.x()*w.x()**2 + v.x()*w.z()**2 + 2*w.x()*(v.x()*w.x() + v.y()*w.y() + v.z()*w.z())), v.y()*(B + 3*C)*(w.x()**2 + w.z()**2), -2*A*v.z() + B*v.z()*(w.x()**2 + w.z()**2) + 2*B*w.z()*(v.x()*w.x() + v.y()*w.y() + v.z()*w.z()) + 3*C*(v.z()*w.x()**2 + v.z()*w.z()**2 + 2*w.z()*(v.x()*w.x() + v.y()*w.y() + v.z()*w.z())), -A*w.x()**2 + B*w.x()**2 - B*w.x()*w.y()*w.z() - B*w.y()**2 - B*w.z()**2 - 3*C*w.x()*w.y()*w.z() + 1/2, -A*(w.x()*w.y() - w.z()) + B*w.y()*(2*w.x() - w.y()*w.z()) - 3*C*w.y()**2*w.z(), -A*(w.x()*w.z() - w.y()) + B*w.z()*(2*w.x() - w.y()*w.z()) - 3*C*w.y()*w.z()**2, -A*(2*v.x()*w.x() + v.y()*w.y() + v.z()*w.z()) + B*(-v.x()*w.x() + v.x()*(3*w.x() - w.y()*w.z()) + 2*v.y()*w.y() + 2*v.z()*w.z()) - 3*C*v.x()*w.y()*w.z(), -A*(v.y()*w.x() - v.z()) - B*(2*v.x()*w.y() + v.y()*w.x() - v.y()*(3*w.x() - w.y()*w.z()) + w.z()*(v.x()*w.x() + v.y()*w.y() + v.z()*w.z())) - 3*C*v.y()*w.y()*w.z() - 3*C*w.z()*(v.x()*w.x() + v.y()*w.y() + v.z()*w.z()), A*(v.y() - v.z()*w.x()) - B*(2*v.x()*w.z() + v.z()*w.x() - v.z()*(3*w.x() - w.y()*w.z()) + w.y()*(v.x()*w.x() + v.y()*w.y() + v.z()*w.z())) - 3*C*v.z()*w.y()*w.z() - 3*C*w.y()*(v.x()*w.x() + v.y()*w.y() + v.z()*w.z())], [-A*(w.x()*w.y() - w.z()) - B*w.x()*(w.x()*w.z() - 2*w.y()) - 3*C*w.x()**2*w.z(), -A*w.y()**2 - B*w.x()**2 - B*w.x()*w.y()*w.z() + B*w.y()**2 - B*w.z()**2 - 3*C*w.x()*w.y()*w.z() + 1/2, A*(w.x() - w.y()*w.z()) - B*w.z()*(w.x()*w.z() - 2*w.y()) - 3*C*w.x()*w.z()**2, -A*(v.x()*w.y() - v.z()) - B*(v.x()*w.y() + v.x()*(w.x()*w.z() - 3*w.y()) + 2*v.y()*w.x() + w.z()*(v.x()*w.x() + v.y()*w.y() + v.z()*w.z())) - 3*C*v.x()*w.x()*w.z() - 3*C*w.z()*(v.x()*w.x() + v.y()*w.y() + v.z()*w.z()), -A*(v.x()*w.x() + 2*v.y()*w.y() + v.z()*w.z()) + B*(2*v.x()*w.x() - v.y()*w.y() - v.y()*(w.x()*w.z() - 3*w.y()) + 2*v.z()*w.z()) - 3*C*v.y()*w.x()*w.z(), A*(v.x() - v.z()*w.y()) - B*(2*v.y()*w.z() + v.z()*w.y() + v.z()*(w.x()*w.z() - 3*w.y()) + w.x()*(v.x()*w.x() + v.y()*w.y() + v.z()*w.z())) - 3*C*v.z()*w.x()*w.z() - 3*C*w.x()*(v.x()*w.x() + v.y()*w.y() + v.z()*w.z()), A*w.x()**2 - B*w.x()**2 - B*w.x()*w.y()*w.z() + B*w.y()**2 + B*w.z()**2 - 3*C*w.x()*w.y()*w.z() - 1/2, A*(w.x()*w.y() + w.z()) - B*w.y()*(2*w.x() + w.y()*w.z()) - 3*C*w.y()**2*w.z(), A*(w.x()*w.z() + w.y()) - B*w.z()*(2*w.x() + w.y()*w.z()) - 3*C*w.y()*w.z()**2, A*(2*v.x()*w.x() + v.y()*w.y() + v.z()*w.z()) - B*(-v.x()*w.x() + v.x()*(3*w.x() + w.y()*w.z()) + 2*v.y()*w.y() + 2*v.z()*w.z()) - 3*C*v.x()*w.y()*w.z(), A*(v.y()*w.x() + v.z()) + B*(2*v.x()*w.y() + v.y()*w.x() - v.y()*(3*w.x() + w.y()*w.z()) - w.z()*(v.x()*w.x() + v.y()*w.y() + v.z()*w.z())) - 3*C*v.y()*w.y()*w.z() - 3*C*w.z()*(v.x()*w.x() + v.y()*w.y() + v.z()*w.z()), A*(v.y() + v.z()*w.x()) + B*(2*v.x()*w.z() + v.z()*w.x() - v.z()*(3*w.x() + w.y()*w.z()) - w.y()*(v.x()*w.x() + v.y()*w.y() + v.z()*w.z())) - 3*C*v.z()*w.y()*w.z() - 3*C*w.y()*(v.x()*w.x() + v.y()*w.y() + v.z()*w.z()), w.x()*(-2*A + B*(w.x()**2 + w.y()**2) + 3*C*(w.x()**2 + w.y()**2)), w.y()*(-2*A + B*(w.x()**2 + w.y()**2) + 3*C*(w.x()**2 + w.y()**2)), w.z()*(B + 3*C)*(w.x()**2 + w.y()**2), -2*A*v.x() + B*v.x()*(w.x()**2 + w.y()**2) + 2*B*w.x()*(v.x()*w.x() + v.y()*w.y() + v.z()*w.z()) + 3*C*(v.x()*w.x()**2 + v.x()*w.y()**2 + 2*w.x()*(v.x()*w.x() + v.y()*w.y() + v.z()*w.z())), -2*A*v.y() + B*v.y()*(w.x()**2 + w.y()**2) + 2*B*w.y()*(v.x()*w.x() + v.y()*w.y() + v.z()*w.z()) + 3*C*(v.y()*w.x()**2 + v.y()*w.y()**2 + 2*w.y()*(v.x()*w.x() + v.y()*w.y() + v.z()*w.z())), v.z()*(B + 3*C)*(w.x()**2 + w.y()**2)]])\n"
     ]
    },
    {
     "data": {
      "text/latex": [
       "$\\displaystyle \\left[\\begin{array}{cccccccccccccccccc}w.x() \\left(B + 3 C\\right) \\left(w.y()^{2} + w.z()^{2}\\right) & w.y() \\left(- 2 A + B \\left(w.y()^{2} + w.z()^{2}\\right) + 3 C \\left(w.y()^{2} + w.z()^{2}\\right)\\right) & w.z() \\left(- 2 A + B \\left(w.y()^{2} + w.z()^{2}\\right) + 3 C \\left(w.y()^{2} + w.z()^{2}\\right)\\right) & v.x() \\left(B + 3 C\\right) \\left(w.y()^{2} + w.z()^{2}\\right) & - 2 A v.y() + B v.y() \\left(w.y()^{2} + w.z()^{2}\\right) + 2 B w.y() \\left(v.x() w.x() + v.y() w.y() + v.z() w.z()\\right) + 3 C \\left(v.y() w.y()^{2} + v.y() w.z()^{2} + 2 w.y() \\left(v.x() w.x() + v.y() w.y() + v.z() w.z()\\right)\\right) & - 2 A v.z() + B v.z() \\left(w.y()^{2} + w.z()^{2}\\right) + 2 B w.z() \\left(v.x() w.x() + v.y() w.y() + v.z() w.z()\\right) + 3 C \\left(v.z() w.y()^{2} + v.z() w.z()^{2} + 2 w.z() \\left(v.x() w.x() + v.y() w.y() + v.z() w.z()\\right)\\right) & - A \\left(w.x() w.z() - w.y()\\right) - B w.x() \\left(w.x() w.y() - 2 w.z()\\right) - 3 C w.x()^{2} w.y() & A \\left(w.x() - w.y() w.z()\\right) - B w.y() \\left(w.x() w.y() - 2 w.z()\\right) - 3 C w.x() w.y()^{2} & - A w.z()^{2} - B w.x()^{2} - B w.x() w.y() w.z() - B w.y()^{2} + B w.z()^{2} - 3 C w.x() w.y() w.z() + \\frac{1}{2} & - A \\left(v.x() w.z() - v.y()\\right) - B \\left(v.x() w.z() + v.x() \\left(w.x() w.y() - 3 w.z()\\right) + 2 v.z() w.x() + w.y() \\left(v.x() w.x() + v.y() w.y() + v.z() w.z()\\right)\\right) - 3 C v.x() w.x() w.y() - 3 C w.y() \\left(v.x() w.x() + v.y() w.y() + v.z() w.z()\\right) & A \\left(v.x() - v.y() w.z()\\right) - B \\left(v.y() w.z() + v.y() \\left(w.x() w.y() - 3 w.z()\\right) + 2 v.z() w.y() + w.x() \\left(v.x() w.x() + v.y() w.y() + v.z() w.z()\\right)\\right) - 3 C v.y() w.x() w.y() - 3 C w.x() \\left(v.x() w.x() + v.y() w.y() + v.z() w.z()\\right) & - A \\left(v.x() w.x() + v.y() w.y() + 2 v.z() w.z()\\right) + B \\left(2 v.x() w.x() + 2 v.y() w.y() - v.z() w.z() - v.z() \\left(w.x() w.y() - 3 w.z()\\right)\\right) - 3 C v.z() w.x() w.y() & A \\left(w.x() w.y() + w.z()\\right) - B w.x() \\left(w.x() w.z() + 2 w.y()\\right) - 3 C w.x()^{2} w.z() & A w.y()^{2} + B w.x()^{2} - B w.x() w.y() w.z() - B w.y()^{2} + B w.z()^{2} - 3 C w.x() w.y() w.z() - \\frac{1}{2} & A \\left(w.x() + w.y() w.z()\\right) - B w.z() \\left(w.x() w.z() + 2 w.y()\\right) - 3 C w.x() w.z()^{2} & A \\left(v.x() w.y() + v.z()\\right) + B \\left(v.x() w.y() - v.x() \\left(w.x() w.z() + 3 w.y()\\right) + 2 v.y() w.x() - w.z() \\left(v.x() w.x() + v.y() w.y() + v.z() w.z()\\right)\\right) - 3 C v.x() w.x() w.z() - 3 C w.z() \\left(v.x() w.x() + v.y() w.y() + v.z() w.z()\\right) & A \\left(v.x() w.x() + 2 v.y() w.y() + v.z() w.z()\\right) - B \\left(2 v.x() w.x() - v.y() w.y() + v.y() \\left(w.x() w.z() + 3 w.y()\\right) + 2 v.z() w.z()\\right) - 3 C v.y() w.x() w.z() & A \\left(v.x() + v.z() w.y()\\right) + B \\left(2 v.y() w.z() + v.z() w.y() - v.z() \\left(w.x() w.z() + 3 w.y()\\right) - w.x() \\left(v.x() w.x() + v.y() w.y() + v.z() w.z()\\right)\\right) - 3 C v.z() w.x() w.z() - 3 C w.x() \\left(v.x() w.x() + v.y() w.y() + v.z() w.z()\\right)\\\\A \\left(w.x() w.z() + w.y()\\right) - B w.x() \\left(w.x() w.y() + 2 w.z()\\right) - 3 C w.x()^{2} w.y() & A \\left(w.x() + w.y() w.z()\\right) - B w.y() \\left(w.x() w.y() + 2 w.z()\\right) - 3 C w.x() w.y()^{2} & A w.z()^{2} + B w.x()^{2} - B w.x() w.y() w.z() + B w.y()^{2} - B w.z()^{2} - 3 C w.x() w.y() w.z() - \\frac{1}{2} & A \\left(v.x() w.z() + v.y()\\right) + B \\left(v.x() w.z() - v.x() \\left(w.x() w.y() + 3 w.z()\\right) + 2 v.z() w.x() - w.y() \\left(v.x() w.x() + v.y() w.y() + v.z() w.z()\\right)\\right) - 3 C v.x() w.x() w.y() - 3 C w.y() \\left(v.x() w.x() + v.y() w.y() + v.z() w.z()\\right) & A \\left(v.x() + v.y() w.z()\\right) + B \\left(v.y() w.z() - v.y() \\left(w.x() w.y() + 3 w.z()\\right) + 2 v.z() w.y() - w.x() \\left(v.x() w.x() + v.y() w.y() + v.z() w.z()\\right)\\right) - 3 C v.y() w.x() w.y() - 3 C w.x() \\left(v.x() w.x() + v.y() w.y() + v.z() w.z()\\right) & A \\left(v.x() w.x() + v.y() w.y() + 2 v.z() w.z()\\right) - B \\left(2 v.x() w.x() + 2 v.y() w.y() - v.z() w.z() + v.z() \\left(w.x() w.y() + 3 w.z()\\right)\\right) - 3 C v.z() w.x() w.y() & w.x() \\left(- 2 A + B \\left(w.x()^{2} + w.z()^{2}\\right) + 3 C \\left(w.x()^{2} + w.z()^{2}\\right)\\right) & w.y() \\left(B + 3 C\\right) \\left(w.x()^{2} + w.z()^{2}\\right) & w.z() \\left(- 2 A + B \\left(w.x()^{2} + w.z()^{2}\\right) + 3 C \\left(w.x()^{2} + w.z()^{2}\\right)\\right) & - 2 A v.x() + B v.x() \\left(w.x()^{2} + w.z()^{2}\\right) + 2 B w.x() \\left(v.x() w.x() + v.y() w.y() + v.z() w.z()\\right) + 3 C \\left(v.x() w.x()^{2} + v.x() w.z()^{2} + 2 w.x() \\left(v.x() w.x() + v.y() w.y() + v.z() w.z()\\right)\\right) & v.y() \\left(B + 3 C\\right) \\left(w.x()^{2} + w.z()^{2}\\right) & - 2 A v.z() + B v.z() \\left(w.x()^{2} + w.z()^{2}\\right) + 2 B w.z() \\left(v.x() w.x() + v.y() w.y() + v.z() w.z()\\right) + 3 C \\left(v.z() w.x()^{2} + v.z() w.z()^{2} + 2 w.z() \\left(v.x() w.x() + v.y() w.y() + v.z() w.z()\\right)\\right) & - A w.x()^{2} + B w.x()^{2} - B w.x() w.y() w.z() - B w.y()^{2} - B w.z()^{2} - 3 C w.x() w.y() w.z() + \\frac{1}{2} & - A \\left(w.x() w.y() - w.z()\\right) + B w.y() \\left(2 w.x() - w.y() w.z()\\right) - 3 C w.y()^{2} w.z() & - A \\left(w.x() w.z() - w.y()\\right) + B w.z() \\left(2 w.x() - w.y() w.z()\\right) - 3 C w.y() w.z()^{2} & - A \\left(2 v.x() w.x() + v.y() w.y() + v.z() w.z()\\right) + B \\left(- v.x() w.x() + v.x() \\left(3 w.x() - w.y() w.z()\\right) + 2 v.y() w.y() + 2 v.z() w.z()\\right) - 3 C v.x() w.y() w.z() & - A \\left(v.y() w.x() - v.z()\\right) - B \\left(2 v.x() w.y() + v.y() w.x() - v.y() \\left(3 w.x() - w.y() w.z()\\right) + w.z() \\left(v.x() w.x() + v.y() w.y() + v.z() w.z()\\right)\\right) - 3 C v.y() w.y() w.z() - 3 C w.z() \\left(v.x() w.x() + v.y() w.y() + v.z() w.z()\\right) & A \\left(v.y() - v.z() w.x()\\right) - B \\left(2 v.x() w.z() + v.z() w.x() - v.z() \\left(3 w.x() - w.y() w.z()\\right) + w.y() \\left(v.x() w.x() + v.y() w.y() + v.z() w.z()\\right)\\right) - 3 C v.z() w.y() w.z() - 3 C w.y() \\left(v.x() w.x() + v.y() w.y() + v.z() w.z()\\right)\\\\- A \\left(w.x() w.y() - w.z()\\right) - B w.x() \\left(w.x() w.z() - 2 w.y()\\right) - 3 C w.x()^{2} w.z() & - A w.y()^{2} - B w.x()^{2} - B w.x() w.y() w.z() + B w.y()^{2} - B w.z()^{2} - 3 C w.x() w.y() w.z() + \\frac{1}{2} & A \\left(w.x() - w.y() w.z()\\right) - B w.z() \\left(w.x() w.z() - 2 w.y()\\right) - 3 C w.x() w.z()^{2} & - A \\left(v.x() w.y() - v.z()\\right) - B \\left(v.x() w.y() + v.x() \\left(w.x() w.z() - 3 w.y()\\right) + 2 v.y() w.x() + w.z() \\left(v.x() w.x() + v.y() w.y() + v.z() w.z()\\right)\\right) - 3 C v.x() w.x() w.z() - 3 C w.z() \\left(v.x() w.x() + v.y() w.y() + v.z() w.z()\\right) & - A \\left(v.x() w.x() + 2 v.y() w.y() + v.z() w.z()\\right) + B \\left(2 v.x() w.x() - v.y() w.y() - v.y() \\left(w.x() w.z() - 3 w.y()\\right) + 2 v.z() w.z()\\right) - 3 C v.y() w.x() w.z() & A \\left(v.x() - v.z() w.y()\\right) - B \\left(2 v.y() w.z() + v.z() w.y() + v.z() \\left(w.x() w.z() - 3 w.y()\\right) + w.x() \\left(v.x() w.x() + v.y() w.y() + v.z() w.z()\\right)\\right) - 3 C v.z() w.x() w.z() - 3 C w.x() \\left(v.x() w.x() + v.y() w.y() + v.z() w.z()\\right) & A w.x()^{2} - B w.x()^{2} - B w.x() w.y() w.z() + B w.y()^{2} + B w.z()^{2} - 3 C w.x() w.y() w.z() - \\frac{1}{2} & A \\left(w.x() w.y() + w.z()\\right) - B w.y() \\left(2 w.x() + w.y() w.z()\\right) - 3 C w.y()^{2} w.z() & A \\left(w.x() w.z() + w.y()\\right) - B w.z() \\left(2 w.x() + w.y() w.z()\\right) - 3 C w.y() w.z()^{2} & A \\left(2 v.x() w.x() + v.y() w.y() + v.z() w.z()\\right) - B \\left(- v.x() w.x() + v.x() \\left(3 w.x() + w.y() w.z()\\right) + 2 v.y() w.y() + 2 v.z() w.z()\\right) - 3 C v.x() w.y() w.z() & A \\left(v.y() w.x() + v.z()\\right) + B \\left(2 v.x() w.y() + v.y() w.x() - v.y() \\left(3 w.x() + w.y() w.z()\\right) - w.z() \\left(v.x() w.x() + v.y() w.y() + v.z() w.z()\\right)\\right) - 3 C v.y() w.y() w.z() - 3 C w.z() \\left(v.x() w.x() + v.y() w.y() + v.z() w.z()\\right) & A \\left(v.y() + v.z() w.x()\\right) + B \\left(2 v.x() w.z() + v.z() w.x() - v.z() \\left(3 w.x() + w.y() w.z()\\right) - w.y() \\left(v.x() w.x() + v.y() w.y() + v.z() w.z()\\right)\\right) - 3 C v.z() w.y() w.z() - 3 C w.y() \\left(v.x() w.x() + v.y() w.y() + v.z() w.z()\\right) & w.x() \\left(- 2 A + B \\left(w.x()^{2} + w.y()^{2}\\right) + 3 C \\left(w.x()^{2} + w.y()^{2}\\right)\\right) & w.y() \\left(- 2 A + B \\left(w.x()^{2} + w.y()^{2}\\right) + 3 C \\left(w.x()^{2} + w.y()^{2}\\right)\\right) & w.z() \\left(B + 3 C\\right) \\left(w.x()^{2} + w.y()^{2}\\right) & - 2 A v.x() + B v.x() \\left(w.x()^{2} + w.y()^{2}\\right) + 2 B w.x() \\left(v.x() w.x() + v.y() w.y() + v.z() w.z()\\right) + 3 C \\left(v.x() w.x()^{2} + v.x() w.y()^{2} + 2 w.x() \\left(v.x() w.x() + v.y() w.y() + v.z() w.z()\\right)\\right) & - 2 A v.y() + B v.y() \\left(w.x()^{2} + w.y()^{2}\\right) + 2 B w.y() \\left(v.x() w.x() + v.y() w.y() + v.z() w.z()\\right) + 3 C \\left(v.y() w.x()^{2} + v.y() w.y()^{2} + 2 w.y() \\left(v.x() w.x() + v.y() w.y() + v.z() w.z()\\right)\\right) & v.z() \\left(B + 3 C\\right) \\left(w.x()^{2} + w.y()^{2}\\right)\\end{array}\\right]$"
      ],
      "text/plain": [
       "Matrix([\n",
       "[                                          w.x()*(B + 3*C)*(w.y()**2 + w.z()**2),                                     w.y()*(-2*A + B*(w.y()**2 + w.z()**2) + 3*C*(w.y()**2 + w.z()**2)),                                    w.z()*(-2*A + B*(w.y()**2 + w.z()**2) + 3*C*(w.y()**2 + w.z()**2)),                                                                                                                                                                                      v.x()*(B + 3*C)*(w.y()**2 + w.z()**2),                              -2*A*v.y() + B*v.y()*(w.y()**2 + w.z()**2) + 2*B*w.y()*(v.x()*w.x() + v.y()*w.y() + v.z()*w.z()) + 3*C*(v.y()*w.y()**2 + v.y()*w.z()**2 + 2*w.y()*(v.x()*w.x() + v.y()*w.y() + v.z()*w.z())),                              -2*A*v.z() + B*v.z()*(w.y()**2 + w.z()**2) + 2*B*w.z()*(v.x()*w.x() + v.y()*w.y() + v.z()*w.z()) + 3*C*(v.z()*w.y()**2 + v.z()*w.z()**2 + 2*w.z()*(v.x()*w.x() + v.y()*w.y() + v.z()*w.z())),                       -A*(w.x()*w.z() - w.y()) - B*w.x()*(w.x()*w.y() - 2*w.z()) - 3*C*w.x()**2*w.y(), A*(w.x() - w.y()*w.z()) - B*w.y()*(w.x()*w.y() - 2*w.z()) - 3*C*w.x()*w.y()**2, -A*w.z()**2 - B*w.x()**2 - B*w.x()*w.y()*w.z() - B*w.y()**2 + B*w.z()**2 - 3*C*w.x()*w.y()*w.z() + 1/2, -A*(v.x()*w.z() - v.y()) - B*(v.x()*w.z() + v.x()*(w.x()*w.y() - 3*w.z()) + 2*v.z()*w.x() + w.y()*(v.x()*w.x() + v.y()*w.y() + v.z()*w.z())) - 3*C*v.x()*w.x()*w.y() - 3*C*w.y()*(v.x()*w.x() + v.y()*w.y() + v.z()*w.z()), A*(v.x() - v.y()*w.z()) - B*(v.y()*w.z() + v.y()*(w.x()*w.y() - 3*w.z()) + 2*v.z()*w.y() + w.x()*(v.x()*w.x() + v.y()*w.y() + v.z()*w.z())) - 3*C*v.y()*w.x()*w.y() - 3*C*w.x()*(v.x()*w.x() + v.y()*w.y() + v.z()*w.z()),                                                                  -A*(v.x()*w.x() + v.y()*w.y() + 2*v.z()*w.z()) + B*(2*v.x()*w.x() + 2*v.y()*w.y() - v.z()*w.z() - v.z()*(w.x()*w.y() - 3*w.z())) - 3*C*v.z()*w.x()*w.y(),                         A*(w.x()*w.y() + w.z()) - B*w.x()*(w.x()*w.z() + 2*w.y()) - 3*C*w.x()**2*w.z(), A*w.y()**2 + B*w.x()**2 - B*w.x()*w.y()*w.z() - B*w.y()**2 + B*w.z()**2 - 3*C*w.x()*w.y()*w.z() - 1/2,  A*(w.x() + w.y()*w.z()) - B*w.z()*(w.x()*w.z() + 2*w.y()) - 3*C*w.x()*w.z()**2, A*(v.x()*w.y() + v.z()) + B*(v.x()*w.y() - v.x()*(w.x()*w.z() + 3*w.y()) + 2*v.y()*w.x() - w.z()*(v.x()*w.x() + v.y()*w.y() + v.z()*w.z())) - 3*C*v.x()*w.x()*w.z() - 3*C*w.z()*(v.x()*w.x() + v.y()*w.y() + v.z()*w.z()),                                                                    A*(v.x()*w.x() + 2*v.y()*w.y() + v.z()*w.z()) - B*(2*v.x()*w.x() - v.y()*w.y() + v.y()*(w.x()*w.z() + 3*w.y()) + 2*v.z()*w.z()) - 3*C*v.y()*w.x()*w.z(), A*(v.x() + v.z()*w.y()) + B*(2*v.y()*w.z() + v.z()*w.y() - v.z()*(w.x()*w.z() + 3*w.y()) - w.x()*(v.x()*w.x() + v.y()*w.y() + v.z()*w.z())) - 3*C*v.z()*w.x()*w.z() - 3*C*w.x()*(v.x()*w.x() + v.y()*w.y() + v.z()*w.z())],\n",
       "[ A*(w.x()*w.z() + w.y()) - B*w.x()*(w.x()*w.y() + 2*w.z()) - 3*C*w.x()**2*w.y(),                         A*(w.x() + w.y()*w.z()) - B*w.y()*(w.x()*w.y() + 2*w.z()) - 3*C*w.x()*w.y()**2, A*w.z()**2 + B*w.x()**2 - B*w.x()*w.y()*w.z() + B*w.y()**2 - B*w.z()**2 - 3*C*w.x()*w.y()*w.z() - 1/2,  A*(v.x()*w.z() + v.y()) + B*(v.x()*w.z() - v.x()*(w.x()*w.y() + 3*w.z()) + 2*v.z()*w.x() - w.y()*(v.x()*w.x() + v.y()*w.y() + v.z()*w.z())) - 3*C*v.x()*w.x()*w.y() - 3*C*w.y()*(v.x()*w.x() + v.y()*w.y() + v.z()*w.z()), A*(v.x() + v.y()*w.z()) + B*(v.y()*w.z() - v.y()*(w.x()*w.y() + 3*w.z()) + 2*v.z()*w.y() - w.x()*(v.x()*w.x() + v.y()*w.y() + v.z()*w.z())) - 3*C*v.y()*w.x()*w.y() - 3*C*w.x()*(v.x()*w.x() + v.y()*w.y() + v.z()*w.z()),                                                                   A*(v.x()*w.x() + v.y()*w.y() + 2*v.z()*w.z()) - B*(2*v.x()*w.x() + 2*v.y()*w.y() - v.z()*w.z() + v.z()*(w.x()*w.y() + 3*w.z())) - 3*C*v.z()*w.x()*w.y(),                                    w.x()*(-2*A + B*(w.x()**2 + w.z()**2) + 3*C*(w.x()**2 + w.z()**2)),                                          w.y()*(B + 3*C)*(w.x()**2 + w.z()**2),                                     w.z()*(-2*A + B*(w.x()**2 + w.z()**2) + 3*C*(w.x()**2 + w.z()**2)),                               -2*A*v.x() + B*v.x()*(w.x()**2 + w.z()**2) + 2*B*w.x()*(v.x()*w.x() + v.y()*w.y() + v.z()*w.z()) + 3*C*(v.x()*w.x()**2 + v.x()*w.z()**2 + 2*w.x()*(v.x()*w.x() + v.y()*w.y() + v.z()*w.z())),                                                                                                                                                                                     v.y()*(B + 3*C)*(w.x()**2 + w.z()**2),                              -2*A*v.z() + B*v.z()*(w.x()**2 + w.z()**2) + 2*B*w.z()*(v.x()*w.x() + v.y()*w.y() + v.z()*w.z()) + 3*C*(v.z()*w.x()**2 + v.z()*w.z()**2 + 2*w.z()*(v.x()*w.x() + v.y()*w.y() + v.z()*w.z())), -A*w.x()**2 + B*w.x()**2 - B*w.x()*w.y()*w.z() - B*w.y()**2 - B*w.z()**2 - 3*C*w.x()*w.y()*w.z() + 1/2,                       -A*(w.x()*w.y() - w.z()) + B*w.y()*(2*w.x() - w.y()*w.z()) - 3*C*w.y()**2*w.z(), -A*(w.x()*w.z() - w.y()) + B*w.z()*(2*w.x() - w.y()*w.z()) - 3*C*w.y()*w.z()**2,                                                                 -A*(2*v.x()*w.x() + v.y()*w.y() + v.z()*w.z()) + B*(-v.x()*w.x() + v.x()*(3*w.x() - w.y()*w.z()) + 2*v.y()*w.y() + 2*v.z()*w.z()) - 3*C*v.x()*w.y()*w.z(), -A*(v.y()*w.x() - v.z()) - B*(2*v.x()*w.y() + v.y()*w.x() - v.y()*(3*w.x() - w.y()*w.z()) + w.z()*(v.x()*w.x() + v.y()*w.y() + v.z()*w.z())) - 3*C*v.y()*w.y()*w.z() - 3*C*w.z()*(v.x()*w.x() + v.y()*w.y() + v.z()*w.z()), A*(v.y() - v.z()*w.x()) - B*(2*v.x()*w.z() + v.z()*w.x() - v.z()*(3*w.x() - w.y()*w.z()) + w.y()*(v.x()*w.x() + v.y()*w.y() + v.z()*w.z())) - 3*C*v.z()*w.y()*w.z() - 3*C*w.y()*(v.x()*w.x() + v.y()*w.y() + v.z()*w.z())],\n",
       "[-A*(w.x()*w.y() - w.z()) - B*w.x()*(w.x()*w.z() - 2*w.y()) - 3*C*w.x()**2*w.z(), -A*w.y()**2 - B*w.x()**2 - B*w.x()*w.y()*w.z() + B*w.y()**2 - B*w.z()**2 - 3*C*w.x()*w.y()*w.z() + 1/2,                        A*(w.x() - w.y()*w.z()) - B*w.z()*(w.x()*w.z() - 2*w.y()) - 3*C*w.x()*w.z()**2, -A*(v.x()*w.y() - v.z()) - B*(v.x()*w.y() + v.x()*(w.x()*w.z() - 3*w.y()) + 2*v.y()*w.x() + w.z()*(v.x()*w.x() + v.y()*w.y() + v.z()*w.z())) - 3*C*v.x()*w.x()*w.z() - 3*C*w.z()*(v.x()*w.x() + v.y()*w.y() + v.z()*w.z()),                                                                  -A*(v.x()*w.x() + 2*v.y()*w.y() + v.z()*w.z()) + B*(2*v.x()*w.x() - v.y()*w.y() - v.y()*(w.x()*w.z() - 3*w.y()) + 2*v.z()*w.z()) - 3*C*v.y()*w.x()*w.z(), A*(v.x() - v.z()*w.y()) - B*(2*v.y()*w.z() + v.z()*w.y() + v.z()*(w.x()*w.z() - 3*w.y()) + w.x()*(v.x()*w.x() + v.y()*w.y() + v.z()*w.z())) - 3*C*v.z()*w.x()*w.z() - 3*C*w.x()*(v.x()*w.x() + v.y()*w.y() + v.z()*w.z()), A*w.x()**2 - B*w.x()**2 - B*w.x()*w.y()*w.z() + B*w.y()**2 + B*w.z()**2 - 3*C*w.x()*w.y()*w.z() - 1/2, A*(w.x()*w.y() + w.z()) - B*w.y()*(2*w.x() + w.y()*w.z()) - 3*C*w.y()**2*w.z(),                         A*(w.x()*w.z() + w.y()) - B*w.z()*(2*w.x() + w.y()*w.z()) - 3*C*w.y()*w.z()**2,                                                                   A*(2*v.x()*w.x() + v.y()*w.y() + v.z()*w.z()) - B*(-v.x()*w.x() + v.x()*(3*w.x() + w.y()*w.z()) + 2*v.y()*w.y() + 2*v.z()*w.z()) - 3*C*v.x()*w.y()*w.z(), A*(v.y()*w.x() + v.z()) + B*(2*v.x()*w.y() + v.y()*w.x() - v.y()*(3*w.x() + w.y()*w.z()) - w.z()*(v.x()*w.x() + v.y()*w.y() + v.z()*w.z())) - 3*C*v.y()*w.y()*w.z() - 3*C*w.z()*(v.x()*w.x() + v.y()*w.y() + v.z()*w.z()), A*(v.y() + v.z()*w.x()) + B*(2*v.x()*w.z() + v.z()*w.x() - v.z()*(3*w.x() + w.y()*w.z()) - w.y()*(v.x()*w.x() + v.y()*w.y() + v.z()*w.z())) - 3*C*v.z()*w.y()*w.z() - 3*C*w.y()*(v.x()*w.x() + v.y()*w.y() + v.z()*w.z()),                                     w.x()*(-2*A + B*(w.x()**2 + w.y()**2) + 3*C*(w.x()**2 + w.y()**2)),                                    w.y()*(-2*A + B*(w.x()**2 + w.y()**2) + 3*C*(w.x()**2 + w.y()**2)),                                           w.z()*(B + 3*C)*(w.x()**2 + w.y()**2),                              -2*A*v.x() + B*v.x()*(w.x()**2 + w.y()**2) + 2*B*w.x()*(v.x()*w.x() + v.y()*w.y() + v.z()*w.z()) + 3*C*(v.x()*w.x()**2 + v.x()*w.y()**2 + 2*w.x()*(v.x()*w.x() + v.y()*w.y() + v.z()*w.z())),                               -2*A*v.y() + B*v.y()*(w.x()**2 + w.y()**2) + 2*B*w.y()*(v.x()*w.x() + v.y()*w.y() + v.z()*w.z()) + 3*C*(v.y()*w.x()**2 + v.y()*w.y()**2 + 2*w.y()*(v.x()*w.x() + v.y()*w.y() + v.z()*w.z())),                                                                                                                                                                                     v.z()*(B + 3*C)*(w.x()**2 + w.y()**2)]])"
      ]
     },
     "execution_count": 48,
     "metadata": {},
     "output_type": "execute_result"
    }
   ],
   "source": [
    "PA = W * V + V * W - w.dot(v) * W;\n",
    "PB = W * W * V + V * W * W + w.dot(v) * (3 * W - W * W)\n",
    "PC = -3 * w.dot(v) * W * W\n",
    "Q = V / 2 + A * PA + B * PB + C * PC\n",
    "dQ = diff_mat(Q, [vx, vy, vz, wx, wy, wz])\n",
    "show(dQ.applyfunc(sp.simplify))"
   ]
  },
  {
   "cell_type": "code",
   "execution_count": null,
   "id": "b0d0ebcb",
   "metadata": {},
   "outputs": [],
   "source": []
  },
  {
   "cell_type": "code",
   "execution_count": null,
   "id": "50d03e4a",
   "metadata": {},
   "outputs": [],
   "source": []
  },
  {
   "cell_type": "code",
   "execution_count": null,
   "id": "987c3f7c",
   "metadata": {},
   "outputs": [],
   "source": []
  },
  {
   "cell_type": "code",
   "execution_count": null,
   "id": "2e80be12",
   "metadata": {},
   "outputs": [],
   "source": []
  }
 ],
 "metadata": {
  "kernelspec": {
   "display_name": "Python 3 (ipykernel)",
   "language": "python",
   "name": "python3"
  },
  "language_info": {
   "codemirror_mode": {
    "name": "ipython",
    "version": 3
   },
   "file_extension": ".py",
   "mimetype": "text/x-python",
   "name": "python",
   "nbconvert_exporter": "python",
   "pygments_lexer": "ipython3",
   "version": "3.10.2"
  }
 },
 "nbformat": 4,
 "nbformat_minor": 5
}
